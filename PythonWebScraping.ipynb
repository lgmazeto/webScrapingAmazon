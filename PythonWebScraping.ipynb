{
 "cells": [
  {
   "cell_type": "code",
   "execution_count": null,
   "id": "52a00928",
   "metadata": {
    "scrolled": true
   },
   "outputs": [],
   "source": [
    "# !pip install beautifulsoup4"
   ]
  },
  {
   "cell_type": "code",
   "execution_count": null,
   "id": "6e592fe1",
   "metadata": {},
   "outputs": [],
   "source": [
    "# Libarys\n",
    "\n",
    "from bs4 import BeautifulSoup\n",
    "import requests\n",
    "import smtplib\n",
    "import csv\n",
    "import time\n",
    "import datetime"
   ]
  },
  {
   "cell_type": "code",
   "execution_count": null,
   "id": "8c241a3f",
   "metadata": {},
   "outputs": [],
   "source": [
    "# Link of the product we wanna track \n",
    "URL = 'https://www.amazon.com.br/dp/B09BG1CZ68/ref=fs_a_atv_4'"
   ]
  },
  {
   "cell_type": "code",
   "execution_count": null,
   "id": "6127ef4d",
   "metadata": {},
   "outputs": [],
   "source": [
    "# Your http headers\n",
    "headers = {\"User-Agent\": 'your_user_agent'}"
   ]
  },
  {
   "cell_type": "code",
   "execution_count": null,
   "id": "3a07e02d",
   "metadata": {},
   "outputs": [],
   "source": [
    "# Request and building page into beautifulsoap\n",
    "page = requests.get(URL, headers=headers)\n",
    "soup = BeautifulSoup(page.content, 'html.parser')"
   ]
  },
  {
   "cell_type": "code",
   "execution_count": null,
   "id": "58b50dfc",
   "metadata": {},
   "outputs": [],
   "source": [
    "# Showing the result, prettify() method turns the result a clean text to read\n",
    "print(soup.prettify())"
   ]
  },
  {
   "cell_type": "code",
   "execution_count": null,
   "id": "3ba8688c",
   "metadata": {},
   "outputs": [],
   "source": [
    "# Getting the title of the product by id, using the method get_text()\n",
    "title = soup.find({id:'productTitle'}).get_text(strip = True)\n",
    "print(title)"
   ]
  },
  {
   "cell_type": "code",
   "execution_count": null,
   "id": "22a5864b",
   "metadata": {},
   "outputs": [],
   "source": [
    "# Getting the price as got title.\n",
    "price = soup.find({id:'corePrice_feature_div'}).get_text(strip = True).split('R$')[1].replace('R$', '')\n",
    "print(price)"
   ]
  },
  {
   "cell_type": "code",
   "execution_count": null,
   "id": "85d69fa6",
   "metadata": {},
   "outputs": [],
   "source": [
    "today = datetime.date.today()\n",
    "print(today)"
   ]
  },
  {
   "cell_type": "code",
   "execution_count": null,
   "id": "0ed49707",
   "metadata": {},
   "outputs": [],
   "source": [
    "# Creating a csv file to save the data.\n",
    "header = ['Data', 'Produto', 'Valor']\n",
    "data = [today, title, price]\n",
    "\n",
    "with open('ScrapingAmazon.csv', 'w', newline='', encoding='UTF8') as f:\n",
    "    w = csv.writer(f)\n",
    "    w.writerow(header)\n",
    "    w.writerow(data)"
   ]
  },
  {
   "cell_type": "code",
   "execution_count": null,
   "id": "3a7b27ec",
   "metadata": {},
   "outputs": [],
   "source": [
    "# This function recives a url as parameter and check the title and price of the product and add those informations into csv file.\n",
    "def price_checker(url):\n",
    "    \n",
    "    from bs4 import BeautifulSoup\n",
    "    import requests\n",
    "    import csv\n",
    "    import time\n",
    "    import datetime\n",
    "    \n",
    "    URL = url.strip()\n",
    "    headers = {\"User-Agent\": \"Mozilla/5.0 (Macintosh; Intel Mac OS X 10_15_7) AppleWebKit/537.36 (KHTML, like Gecko) Chrome/99.0.4844.84 Safari/537.36 OPR/85.0.4341.75\"}\n",
    "    page = requests.get(URL, headers=headers)\n",
    "    soup = BeautifulSoup(page.content, 'html.parser')\n",
    "    \n",
    "    today = datetime.date.today()\n",
    "    title = soup.find({id:'productTitle'}).get_text(strip = True)\n",
    "    price = soup.find({id:'corePrice_feature_div'}).get_text(strip = True).split('R$')[1].replace('R$', '')\n",
    "    \n",
    "    header = ['Data', 'Produto', 'Valor']\n",
    "    data = [today, title, price]\n",
    "\n",
    "    with open('ScrapingAmazon.csv', 'a+', newline='', encoding='UTF8') as f:\n",
    "        w = csv.writer(f)\n",
    "        w.writerow(data)\n",
    "\n",
    "        \n",
    "    if int(price.replace('.','').split(',')[0]) < 4000:\n",
    "        send_email()\n",
    "    \n",
    "\n"
   ]
  },
  {
   "cell_type": "code",
   "execution_count": null,
   "id": "5c2977cd",
   "metadata": {},
   "outputs": [],
   "source": [
    "# Tracking the price of the product by a determined time.\n",
    "%%time\n",
    "while(True):\n",
    "    price_checker('https://www.amazon.com.br/dp/B09BG1CZ68/ref=fs_a_atv_4')\n",
    "    time.sleep(2022)"
   ]
  },
  {
   "cell_type": "code",
   "execution_count": null,
   "id": "8ae4dbb3",
   "metadata": {},
   "outputs": [],
   "source": [
    "# Verifying data storage in csv file.\n",
    "import pandas as pd\n",
    "\n",
    "df = pd.read_csv('ScrapingAmazon.csv')\n",
    "\n",
    "df.head()"
   ]
  },
  {
   "cell_type": "code",
   "execution_count": null,
   "id": "e336976c",
   "metadata": {},
   "outputs": [],
   "source": [
    "# This function sends you an e-mail.\n",
    "def send_email():\n",
    "    import smtplib\n",
    "    \n",
    "    server = smtplib.SMTP_SSL('smtp.gmail.com', 465)\n",
    "    server.ehlo()\n",
    "    server.login('seu_email@gmail.com', 'sua_senha')\n",
    "    \n",
    "    subject = 'Apple iPhone 12 (64 GB) - Preto'\n",
    "    body = 'Apple iPhone 12 (64 GB) - Preto \\n R$ 3.999,00'\n",
    "    \n",
    "    msg = f'Subject: {subject}\\n\\n{body}'\n",
    "    \n",
    "    server.sendmail(\n",
    "        'seu_email@gmail.com',\n",
    "        'seu_email@gmail.com',\n",
    "        msg    \n",
    "    )"
   ]
  },
  {
   "cell_type": "code",
   "execution_count": null,
   "id": "c8e8f967",
   "metadata": {},
   "outputs": [],
   "source": [
    "# Bonus we can get de source of all imagens in page, this routine avoids keytype errors.\n",
    "imgs = set(img['src'] for img in soup.find_all('img') if img.has_attr('src')) \n",
    "for i in imgs:\n",
    "    print(i)"
   ]
  }
 ],
 "metadata": {
  "kernelspec": {
   "display_name": "Python 3 (ipykernel)",
   "language": "python",
   "name": "python3"
  },
  "language_info": {
   "codemirror_mode": {
    "name": "ipython",
    "version": 3
   },
   "file_extension": ".py",
   "mimetype": "text/x-python",
   "name": "python",
   "nbconvert_exporter": "python",
   "pygments_lexer": "ipython3",
   "version": "3.9.7"
  }
 },
 "nbformat": 4,
 "nbformat_minor": 5
}
